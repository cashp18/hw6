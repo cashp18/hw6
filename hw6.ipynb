{
 "cells": [
  {
   "cell_type": "code",
   "execution_count": 1,
   "id": "75511075",
   "metadata": {},
   "outputs": [
    {
     "name": "stdout",
     "output_type": "stream",
     "text": [
      "['Number of Features: 1', ' Average Score: 0.954', 'Average Score per Feature: 0.954']\n",
      "['Number of Features: 2', ' Average Score: 0.958', 'Average Score per Feature: 0.479']\n",
      "['Number of Features: 3', ' Average Score: 0.963', 'Average Score per Feature: 0.321']\n",
      "['Number of Features: 4', ' Average Score: 0.961', 'Average Score per Feature: 0.240']\n",
      "['Number of Features: 5', ' Average Score: 0.960', 'Average Score per Feature: 0.192']\n",
      "['Number of Features: 6', ' Average Score: 0.960', 'Average Score per Feature: 0.160']\n",
      "['Number of Features: 7', ' Average Score: 0.963', 'Average Score per Feature: 0.138']\n",
      "['Number of Features: 8', ' Average Score: 0.961', 'Average Score per Feature: 0.120']\n",
      "['Number of Features: 9', ' Average Score: 0.960', 'Average Score per Feature: 0.107']\n",
      "['Number of Features: 10', ' Average Score: 0.963', 'Average Score per Feature: 0.096']\n",
      "['Best Number of Features: 2', ' Average Score: 0.958', 'Average Score per Feature: 0.479']\n"
     ]
    }
   ],
   "source": [
    "from sklearn.model_selection import train_test_split\n",
    "from sklearn.model_selection import cross_val_score\n",
    "from sklearn.datasets import load_breast_cancer\n",
    "from sklearn.metrics import accuracy_score\n",
    "from sklearn.ensemble import RandomForestClassifier\n",
    "\n",
    "\n",
    "# load the breast_cancer dataset\n",
    "init_data = load_breast_cancer()\n",
    "(X, y) = load_breast_cancer(return_X_y=True)\n",
    "X_train, X_test, y_train, y_test = train_test_split(X, y, test_size=0.5, random_state=1)\n",
    "\n",
    "bestnf = 0\n",
    "lowadjscore_40 = 1\n",
    "lowscore_40 = 1\n",
    "# testing number of features 1-10\n",
    "for x in range(1,11):\n",
    "    model = RandomForestClassifier(max_features=x, n_estimators=100, random_state=1)\n",
    "    scores = cross_val_score(model, X, y, cv=5)\n",
    "    avgScores = scores.mean()\n",
    "    adjAvgScores = avgScores/x\n",
    "    if lowadjscore_40 > adjAvgScores and adjAvgScores > .40:\n",
    "        bestnf = x\n",
    "        lowadjscore_40 = adjAvgScores\n",
    "        lowscore_40 = avgScores\n",
    "        \n",
    "    print(['Number of Features: ' + str(x), ' Average Score: {:.3f}'.format(avgScores), 'Average Score per Feature: {:.3f}'.format(adjAvgScores)])\n",
    "\n",
    "print(['Best Number of Features: ' + str(bestnf), ' Average Score: {:.3f}'.format(lowscore_40), 'Average Score per Feature: {:.3f}'.format(lowadjscore_40)])"
   ]
  },
  {
   "cell_type": "code",
   "execution_count": null,
   "id": "154096bc",
   "metadata": {},
   "outputs": [],
   "source": []
  }
 ],
 "metadata": {
  "kernelspec": {
   "display_name": "machineLearningEnv",
   "language": "python",
   "name": "machinelearningenv"
  },
  "language_info": {
   "codemirror_mode": {
    "name": "ipython",
    "version": 3
   },
   "file_extension": ".py",
   "mimetype": "text/x-python",
   "name": "python",
   "nbconvert_exporter": "python",
   "pygments_lexer": "ipython3",
   "version": "3.6.9"
  }
 },
 "nbformat": 4,
 "nbformat_minor": 5
}
